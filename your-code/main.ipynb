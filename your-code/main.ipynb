{
 "cells": [
  {
   "cell_type": "markdown",
   "metadata": {},
   "source": [
    "# Data Cleaning \n",
    "\n",
    "#### 1. Import pandas library."
   ]
  },
  {
   "cell_type": "code",
   "execution_count": 1,
   "metadata": {},
   "outputs": [],
   "source": [
    "import pandas as pd"
   ]
  },
  {
   "cell_type": "markdown",
   "metadata": {},
   "source": [
    "#### 2. Import the users table."
   ]
  },
  {
   "cell_type": "code",
   "execution_count": 2,
   "metadata": {},
   "outputs": [
    {
     "output_type": "stream",
     "name": "stdout",
     "text": [
      "       Unnamed: 0     Id  Reputation  Views  UpVotes  DownVotes\n0               0     -1           1      0     5007       1920\n1               1      2         101     25        3          0\n2               2      3         101     22       19          0\n3               3      4         101     11        0          0\n4               4      5        6792   1145      662          5\n...           ...    ...         ...    ...      ...        ...\n40320       40320  55743           1      0        0          0\n40321       40321  55744           6      1        0          0\n40322       40322  55745         101      0        0          0\n40323       40323  55746         106      1        0          0\n40324       40324  55747           1      0        0          0\n\n[40325 rows x 6 columns]\n"
     ]
    }
   ],
   "source": [
    "users = pd.read_csv(\"../data/users.csv\")\n",
    "print(users)"
   ]
  },
  {
   "cell_type": "code",
   "execution_count": 3,
   "metadata": {},
   "outputs": [
    {
     "output_type": "stream",
     "name": "stdout",
     "text": [
      "<class 'pandas.core.frame.DataFrame'>\nRangeIndex: 40325 entries, 0 to 40324\nData columns (total 6 columns):\n #   Column      Non-Null Count  Dtype\n---  ------      --------------  -----\n 0   Unnamed: 0  40325 non-null  int64\n 1   Id          40325 non-null  int64\n 2   Reputation  40325 non-null  int64\n 3   Views       40325 non-null  int64\n 4   UpVotes     40325 non-null  int64\n 5   DownVotes   40325 non-null  int64\ndtypes: int64(6)\nmemory usage: 1.8 MB\n"
     ]
    }
   ],
   "source": [
    "users.info()"
   ]
  },
  {
   "cell_type": "markdown",
   "metadata": {},
   "source": [
    "#### 3. Rename Id column to userId."
   ]
  },
  {
   "cell_type": "code",
   "execution_count": 4,
   "metadata": {},
   "outputs": [
    {
     "output_type": "stream",
     "name": "stdout",
     "text": [
      "       Unnamed: 0  userId  Reputation  Views  UpVotes  DownVotes\n0               0      -1           1      0     5007       1920\n1               1       2         101     25        3          0\n2               2       3         101     22       19          0\n3               3       4         101     11        0          0\n4               4       5        6792   1145      662          5\n...           ...     ...         ...    ...      ...        ...\n40320       40320   55743           1      0        0          0\n40321       40321   55744           6      1        0          0\n40322       40322   55745         101      0        0          0\n40323       40323   55746         106      1        0          0\n40324       40324   55747           1      0        0          0\n\n[40325 rows x 6 columns]\n"
     ]
    }
   ],
   "source": [
    "new_users = users.rename(columns={\"Id\": \"userId\"})\n",
    "print(new_users)"
   ]
  },
  {
   "cell_type": "markdown",
   "metadata": {},
   "source": [
    "#### 4. Import the posts table. "
   ]
  },
  {
   "cell_type": "code",
   "execution_count": 5,
   "metadata": {},
   "outputs": [
    {
     "output_type": "stream",
     "name": "stdout",
     "text": [
      "       Unnamed: 0      Id  OwnerUserId  Score  ViewCount  CommentCount\n0               0       1          8.0     23     1278.0             1\n1               1       2         24.0     22     8198.0             1\n2               2       3         18.0     54     3613.0             4\n3               3       4         23.0     13     5224.0             2\n4               4       5         23.0     81        NaN             3\n...           ...     ...          ...    ...        ...           ...\n91971       91971  115374        805.0      2        NaN             2\n91972       91972  115375      49365.0      0        9.0             0\n91973       91973  115376      55746.0      1        5.0             2\n91974       91974  115377        805.0      0        NaN             0\n91975       91975  115378       7250.0      0        NaN             0\n\n[91976 rows x 6 columns]\n"
     ]
    }
   ],
   "source": [
    "posts = pd.read_csv(\"../data/posts.csv\")\n",
    "print(posts)"
   ]
  },
  {
   "cell_type": "markdown",
   "metadata": {},
   "source": [
    "#### 5. Rename Id column to postId and OwnerUserId to userId."
   ]
  },
  {
   "cell_type": "code",
   "execution_count": 6,
   "metadata": {},
   "outputs": [
    {
     "output_type": "stream",
     "name": "stdout",
     "text": [
      "       Unnamed: 0  userId  Reputation  Views  UpVotes  DownVotes\n0               0      -1           1      0     5007       1920\n1               1       2         101     25        3          0\n2               2       3         101     22       19          0\n3               3       4         101     11        0          0\n4               4       5        6792   1145      662          5\n...           ...     ...         ...    ...      ...        ...\n40320       40320   55743           1      0        0          0\n40321       40321   55744           6      1        0          0\n40322       40322   55745         101      0        0          0\n40323       40323   55746         106      1        0          0\n40324       40324   55747           1      0        0          0\n\n[40325 rows x 6 columns]\n"
     ]
    }
   ],
   "source": [
    "new_posts = posts.rename(columns={\"Id\": \"postId\", \"OwnerUserId\": \"userId\"})\n",
    "print(new_users)"
   ]
  },
  {
   "cell_type": "markdown",
   "metadata": {},
   "source": [
    "#### 6. Define new dataframes for users and posts with the following selected columns:\n",
    "**users_sliced columns**: userId, Reputation, Views, UpVotes      \n",
    "**posts_sliced columns**: postId, Score, userId, ViewCount"
   ]
  },
  {
   "cell_type": "code",
   "execution_count": 7,
   "metadata": {},
   "outputs": [
    {
     "output_type": "stream",
     "name": "stdout",
     "text": [
      "       userId  Reputation  Views  UpVotes\n0          -1           1      0     5007\n1           2         101     25        3\n2           3         101     22       19\n3           4         101     11        0\n4           5        6792   1145      662\n...       ...         ...    ...      ...\n40320   55743           1      0        0\n40321   55744           6      1        0\n40322   55745         101      0        0\n40323   55746         106      1        0\n40324   55747           1      0        0\n\n[40325 rows x 4 columns]\n"
     ]
    }
   ],
   "source": [
    "users_sliced = new_users.loc[:, [\"userId\", \"Reputation\", \"Views\", \"UpVotes\"]]\n",
    "print(users_sliced)\n"
   ]
  },
  {
   "cell_type": "code",
   "execution_count": 8,
   "metadata": {},
   "outputs": [
    {
     "output_type": "stream",
     "name": "stdout",
     "text": [
      "       postId  Score   userId  ViewCount\n0           1     23      8.0     1278.0\n1           2     22     24.0     8198.0\n2           3     54     18.0     3613.0\n3           4     13     23.0     5224.0\n4           5     81     23.0        NaN\n...       ...    ...      ...        ...\n91971  115374      2    805.0        NaN\n91972  115375      0  49365.0        9.0\n91973  115376      1  55746.0        5.0\n91974  115377      0    805.0        NaN\n91975  115378      0   7250.0        NaN\n\n[91976 rows x 4 columns]\n"
     ]
    }
   ],
   "source": [
    "posts_sliced = new_posts.loc[:, [\"postId\", \"Score\", \"userId\", \"ViewCount\"]]\n",
    "print(posts_sliced)"
   ]
  },
  {
   "cell_type": "markdown",
   "metadata": {},
   "source": [
    "#### 7. Merge the two dataframes created in the step above (8), users_sliced and posts_sliced. \n",
    "You will need to make a [merge](https://pandas.pydata.org/pandas-docs/stable/generated/pandas.DataFrame.merge.html) of posts and users dataframes."
   ]
  },
  {
   "cell_type": "code",
   "execution_count": 9,
   "metadata": {},
   "outputs": [
    {
     "output_type": "execute_result",
     "data": {
      "text/plain": [
       "['Unnamed: 0', 'userId', 'Reputation', 'Views', 'UpVotes', 'DownVotes']"
      ]
     },
     "metadata": {},
     "execution_count": 9
    }
   ],
   "source": [
    "list(new_users) #Checking the columns that are the same in eacht dataframe\n"
   ]
  },
  {
   "cell_type": "code",
   "execution_count": 10,
   "metadata": {},
   "outputs": [
    {
     "output_type": "execute_result",
     "data": {
      "text/plain": [
       "['Unnamed: 0', 'postId', 'userId', 'Score', 'ViewCount', 'CommentCount']"
      ]
     },
     "metadata": {},
     "execution_count": 10
    }
   ],
   "source": [
    "list(new_posts)"
   ]
  },
  {
   "cell_type": "code",
   "execution_count": 11,
   "metadata": {},
   "outputs": [
    {
     "output_type": "execute_result",
     "data": {
      "text/plain": [
       "        userId  Reputation  Views  UpVotes    postId  Score  ViewCount\n",
       "0         -1.0         1.0    0.0   5007.0    2175.0    0.0        NaN\n",
       "1         -1.0         1.0    0.0   5007.0    8576.0    0.0        NaN\n",
       "2         -1.0         1.0    0.0   5007.0    8578.0    0.0        NaN\n",
       "3         -1.0         1.0    0.0   5007.0    8981.0    0.0        NaN\n",
       "4         -1.0         1.0    0.0   5007.0    8982.0    0.0        NaN\n",
       "...        ...         ...    ...      ...       ...    ...        ...\n",
       "110313     NaN         NaN    NaN      NaN  114678.0    0.0       20.0\n",
       "110314     NaN         NaN    NaN      NaN  114812.0    0.0       16.0\n",
       "110315     NaN         NaN    NaN      NaN  114815.0    1.0       14.0\n",
       "110316     NaN         NaN    NaN      NaN  115225.0    0.0        8.0\n",
       "110317     NaN         NaN    NaN      NaN  115271.0    0.0        9.0\n",
       "\n",
       "[110318 rows x 7 columns]"
      ],
      "text/html": "<div>\n<style scoped>\n    .dataframe tbody tr th:only-of-type {\n        vertical-align: middle;\n    }\n\n    .dataframe tbody tr th {\n        vertical-align: top;\n    }\n\n    .dataframe thead th {\n        text-align: right;\n    }\n</style>\n<table border=\"1\" class=\"dataframe\">\n  <thead>\n    <tr style=\"text-align: right;\">\n      <th></th>\n      <th>userId</th>\n      <th>Reputation</th>\n      <th>Views</th>\n      <th>UpVotes</th>\n      <th>postId</th>\n      <th>Score</th>\n      <th>ViewCount</th>\n    </tr>\n  </thead>\n  <tbody>\n    <tr>\n      <th>0</th>\n      <td>-1.0</td>\n      <td>1.0</td>\n      <td>0.0</td>\n      <td>5007.0</td>\n      <td>2175.0</td>\n      <td>0.0</td>\n      <td>NaN</td>\n    </tr>\n    <tr>\n      <th>1</th>\n      <td>-1.0</td>\n      <td>1.0</td>\n      <td>0.0</td>\n      <td>5007.0</td>\n      <td>8576.0</td>\n      <td>0.0</td>\n      <td>NaN</td>\n    </tr>\n    <tr>\n      <th>2</th>\n      <td>-1.0</td>\n      <td>1.0</td>\n      <td>0.0</td>\n      <td>5007.0</td>\n      <td>8578.0</td>\n      <td>0.0</td>\n      <td>NaN</td>\n    </tr>\n    <tr>\n      <th>3</th>\n      <td>-1.0</td>\n      <td>1.0</td>\n      <td>0.0</td>\n      <td>5007.0</td>\n      <td>8981.0</td>\n      <td>0.0</td>\n      <td>NaN</td>\n    </tr>\n    <tr>\n      <th>4</th>\n      <td>-1.0</td>\n      <td>1.0</td>\n      <td>0.0</td>\n      <td>5007.0</td>\n      <td>8982.0</td>\n      <td>0.0</td>\n      <td>NaN</td>\n    </tr>\n    <tr>\n      <th>...</th>\n      <td>...</td>\n      <td>...</td>\n      <td>...</td>\n      <td>...</td>\n      <td>...</td>\n      <td>...</td>\n      <td>...</td>\n    </tr>\n    <tr>\n      <th>110313</th>\n      <td>NaN</td>\n      <td>NaN</td>\n      <td>NaN</td>\n      <td>NaN</td>\n      <td>114678.0</td>\n      <td>0.0</td>\n      <td>20.0</td>\n    </tr>\n    <tr>\n      <th>110314</th>\n      <td>NaN</td>\n      <td>NaN</td>\n      <td>NaN</td>\n      <td>NaN</td>\n      <td>114812.0</td>\n      <td>0.0</td>\n      <td>16.0</td>\n    </tr>\n    <tr>\n      <th>110315</th>\n      <td>NaN</td>\n      <td>NaN</td>\n      <td>NaN</td>\n      <td>NaN</td>\n      <td>114815.0</td>\n      <td>1.0</td>\n      <td>14.0</td>\n    </tr>\n    <tr>\n      <th>110316</th>\n      <td>NaN</td>\n      <td>NaN</td>\n      <td>NaN</td>\n      <td>NaN</td>\n      <td>115225.0</td>\n      <td>0.0</td>\n      <td>8.0</td>\n    </tr>\n    <tr>\n      <th>110317</th>\n      <td>NaN</td>\n      <td>NaN</td>\n      <td>NaN</td>\n      <td>NaN</td>\n      <td>115271.0</td>\n      <td>0.0</td>\n      <td>9.0</td>\n    </tr>\n  </tbody>\n</table>\n<p>110318 rows × 7 columns</p>\n</div>"
     },
     "metadata": {},
     "execution_count": 11
    }
   ],
   "source": [
    "merged_df = users_sliced.merge(posts_sliced, how=\"outer\", left_on=\"userId\", right_on=\"userId\")\n",
    "merged_df\n",
    "\n",
    "#Merged dataframes with the userId as the common column"
   ]
  },
  {
   "cell_type": "markdown",
   "metadata": {},
   "source": [
    "#### 8. How many missing values do you have in your merged dataframe? On which columns?"
   ]
  },
  {
   "cell_type": "code",
   "execution_count": 12,
   "metadata": {},
   "outputs": [
    {
     "output_type": "stream",
     "name": "stdout",
     "text": [
      "<class 'pandas.core.frame.DataFrame'>\nInt64Index: 110318 entries, 0 to 110317\nData columns (total 7 columns):\n #   Column      Non-Null Count   Dtype  \n---  ------      --------------   -----  \n 0   userId      108926 non-null  float64\n 1   Reputation  108926 non-null  float64\n 2   Views       108926 non-null  float64\n 3   UpVotes     108926 non-null  float64\n 4   postId      91976 non-null   float64\n 5   Score       91976 non-null   float64\n 6   ViewCount   42921 non-null   float64\ndtypes: float64(7)\nmemory usage: 6.7 MB\n"
     ]
    }
   ],
   "source": [
    "merged_df.info()"
   ]
  },
  {
   "cell_type": "code",
   "execution_count": 13,
   "metadata": {},
   "outputs": [
    {
     "output_type": "execute_result",
     "data": {
      "text/plain": [
       "userId         1392\n",
       "Reputation     1392\n",
       "Views          1392\n",
       "UpVotes        1392\n",
       "postId        18342\n",
       "Score         18342\n",
       "ViewCount     67397\n",
       "dtype: int64"
      ]
     },
     "metadata": {},
     "execution_count": 13
    }
   ],
   "source": [
    "merged_df.isnull().sum()"
   ]
  },
  {
   "cell_type": "markdown",
   "metadata": {},
   "source": [
    "#### 9. You will need to make something with missing values.  Will you clean or filling them? Explain. \n",
    "**Remember** to check the results of your code before going to the next step."
   ]
  },
  {
   "cell_type": "code",
   "execution_count": null,
   "metadata": {},
   "outputs": [],
   "source": [
    "#The total number of rows is 110318 and the column with the biggest number of NaNs is Viewcount which is a bit more than half the rows. If we remove the rows with the missing values, the sample will shrink immensely.\n"
   ]
  }
 ],
 "metadata": {
  "kernelspec": {
   "name": "python3",
   "display_name": "Python 3.8.8 64-bit ('base': conda)"
  },
  "language_info": {
   "codemirror_mode": {
    "name": "ipython",
    "version": 3
   },
   "file_extension": ".py",
   "mimetype": "text/x-python",
   "name": "python",
   "nbconvert_exporter": "python",
   "pygments_lexer": "ipython3",
   "version": "3.8.8"
  },
  "interpreter": {
   "hash": "05b3b62c7789db94d00c942f2499dd9a2876ea971fd9b7cf25c50892de6c631c"
  }
 },
 "nbformat": 4,
 "nbformat_minor": 2
}