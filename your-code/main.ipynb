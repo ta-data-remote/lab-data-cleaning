{
 "cells": [
  {
   "cell_type": "markdown",
   "metadata": {},
   "source": [
    "# Data Cleaning \n",
    "\n",
    "#### 1. Import pandas library."
   ]
  },
  {
   "cell_type": "code",
   "execution_count": 2,
   "metadata": {},
   "outputs": [],
   "source": [
    "import pandas as pd\n",
    "import numpy as np\n",
    "import os"
   ]
  },
  {
   "cell_type": "markdown",
   "metadata": {},
   "source": [
    "#### 2. Import the users table."
   ]
  },
  {
   "cell_type": "code",
   "execution_count": 3,
   "metadata": {},
   "outputs": [],
   "source": [
    "users_data = pd.read_csv(\"/Users/m.soren/Desktop/Ironhack/Labs/Lab11/lab-data-cleaning/data/users.csv\")    "
   ]
  },
  {
   "cell_type": "markdown",
   "metadata": {},
   "source": [
    "#### 3. Rename Id column to userId."
   ]
  },
  {
   "cell_type": "code",
   "execution_count": 31,
   "metadata": {},
   "outputs": [],
   "source": [
    "users_data = users_data.rename({\"Id\": \"userId\"}, axis=1)\n"
   ]
  },
  {
   "cell_type": "code",
   "execution_count": 32,
   "metadata": {},
   "outputs": [
    {
     "data": {
      "text/html": "<div>\n<style scoped>\n    .dataframe tbody tr th:only-of-type {\n        vertical-align: middle;\n    }\n\n    .dataframe tbody tr th {\n        vertical-align: top;\n    }\n\n    .dataframe thead th {\n        text-align: right;\n    }\n</style>\n<table border=\"1\" class=\"dataframe\">\n  <thead>\n    <tr style=\"text-align: right;\">\n      <th></th>\n      <th>userId</th>\n      <th>Reputation</th>\n      <th>Views</th>\n      <th>UpVotes</th>\n      <th>DownVotes</th>\n    </tr>\n  </thead>\n  <tbody>\n    <tr>\n      <th>0</th>\n      <td>-1</td>\n      <td>1</td>\n      <td>0</td>\n      <td>5007</td>\n      <td>1920</td>\n    </tr>\n    <tr>\n      <th>1</th>\n      <td>2</td>\n      <td>101</td>\n      <td>25</td>\n      <td>3</td>\n      <td>0</td>\n    </tr>\n    <tr>\n      <th>2</th>\n      <td>3</td>\n      <td>101</td>\n      <td>22</td>\n      <td>19</td>\n      <td>0</td>\n    </tr>\n    <tr>\n      <th>3</th>\n      <td>4</td>\n      <td>101</td>\n      <td>11</td>\n      <td>0</td>\n      <td>0</td>\n    </tr>\n    <tr>\n      <th>4</th>\n      <td>5</td>\n      <td>6792</td>\n      <td>1145</td>\n      <td>662</td>\n      <td>5</td>\n    </tr>\n  </tbody>\n</table>\n</div>",
      "text/plain": "   userId  Reputation  Views  UpVotes  DownVotes\n0      -1           1      0     5007       1920\n1       2         101     25        3          0\n2       3         101     22       19          0\n3       4         101     11        0          0\n4       5        6792   1145      662          5"
     },
     "execution_count": 32,
     "metadata": {},
     "output_type": "execute_result"
    }
   ],
   "source": [
    "users_data.head()"
   ]
  },
  {
   "cell_type": "markdown",
   "metadata": {},
   "source": [
    "#### 4. Import the posts table. "
   ]
  },
  {
   "cell_type": "code",
   "execution_count": 7,
   "metadata": {},
   "outputs": [],
   "source": [
    "posts_data = pd.read_csv(\"/Users/m.soren/Desktop/Ironhack/Labs/Lab11/lab-data-cleaning/data/posts.csv\")"
   ]
  },
  {
   "cell_type": "markdown",
   "metadata": {},
   "source": [
    "#### 5. Rename Id column to postId and OwnerUserId to userId."
   ]
  },
  {
   "cell_type": "code",
   "execution_count": 23,
   "metadata": {},
   "outputs": [],
   "source": [
    "\n",
    "posts_data = posts_data.rename(columns={\"Id\": \"postId\", \"OwnerUserId\": \"userId\"})\n"
   ]
  },
  {
   "cell_type": "code",
   "execution_count": 21,
   "metadata": {},
   "outputs": [
    {
     "data": {
      "text/html": "<div>\n<style scoped>\n    .dataframe tbody tr th:only-of-type {\n        vertical-align: middle;\n    }\n\n    .dataframe tbody tr th {\n        vertical-align: top;\n    }\n\n    .dataframe thead th {\n        text-align: right;\n    }\n</style>\n<table border=\"1\" class=\"dataframe\">\n  <thead>\n    <tr style=\"text-align: right;\">\n      <th></th>\n      <th>postId</th>\n      <th>userId</th>\n      <th>Score</th>\n      <th>ViewCount</th>\n      <th>CommentCount</th>\n    </tr>\n  </thead>\n  <tbody>\n    <tr>\n      <th>0</th>\n      <td>1</td>\n      <td>8.0</td>\n      <td>23</td>\n      <td>1278.0</td>\n      <td>1</td>\n    </tr>\n    <tr>\n      <th>1</th>\n      <td>2</td>\n      <td>24.0</td>\n      <td>22</td>\n      <td>8198.0</td>\n      <td>1</td>\n    </tr>\n    <tr>\n      <th>2</th>\n      <td>3</td>\n      <td>18.0</td>\n      <td>54</td>\n      <td>3613.0</td>\n      <td>4</td>\n    </tr>\n    <tr>\n      <th>3</th>\n      <td>4</td>\n      <td>23.0</td>\n      <td>13</td>\n      <td>5224.0</td>\n      <td>2</td>\n    </tr>\n    <tr>\n      <th>4</th>\n      <td>5</td>\n      <td>23.0</td>\n      <td>81</td>\n      <td>NaN</td>\n      <td>3</td>\n    </tr>\n  </tbody>\n</table>\n</div>",
      "text/plain": "   postId  userId  Score  ViewCount  CommentCount\n0       1     8.0     23     1278.0             1\n1       2    24.0     22     8198.0             1\n2       3    18.0     54     3613.0             4\n3       4    23.0     13     5224.0             2\n4       5    23.0     81        NaN             3"
     },
     "execution_count": 21,
     "metadata": {},
     "output_type": "execute_result"
    }
   ],
   "source": [
    "posts_data.head()"
   ]
  },
  {
   "cell_type": "markdown",
   "metadata": {},
   "source": [
    "#### 6. Define new dataframes for users and posts with the following selected columns:\n",
    "**users_sliced columns**: userId, Reputation, Views, UpVotes      \n",
    "**posts_sliced columns**: postId, Score, userId, ViewCount"
   ]
  },
  {
   "cell_type": "code",
   "execution_count": 33,
   "metadata": {},
   "outputs": [],
   "source": [
    "users_sliced_columns = users_data.filter([\"userId\", \"Reputation\", \"Views\", \"UpVotes\"], axis=1)\n",
    "posts_sliced_columns = posts_data.filter([\"postId\", \"Score\", \"userId\", \"ViewCount\"], axis=1)\n"
   ]
  },
  {
   "cell_type": "code",
   "execution_count": 34,
   "metadata": {},
   "outputs": [
    {
     "data": {
      "text/html": "<div>\n<style scoped>\n    .dataframe tbody tr th:only-of-type {\n        vertical-align: middle;\n    }\n\n    .dataframe tbody tr th {\n        vertical-align: top;\n    }\n\n    .dataframe thead th {\n        text-align: right;\n    }\n</style>\n<table border=\"1\" class=\"dataframe\">\n  <thead>\n    <tr style=\"text-align: right;\">\n      <th></th>\n      <th>userId</th>\n      <th>Reputation</th>\n      <th>Views</th>\n      <th>UpVotes</th>\n    </tr>\n  </thead>\n  <tbody>\n    <tr>\n      <th>0</th>\n      <td>-1</td>\n      <td>1</td>\n      <td>0</td>\n      <td>5007</td>\n    </tr>\n    <tr>\n      <th>1</th>\n      <td>2</td>\n      <td>101</td>\n      <td>25</td>\n      <td>3</td>\n    </tr>\n    <tr>\n      <th>2</th>\n      <td>3</td>\n      <td>101</td>\n      <td>22</td>\n      <td>19</td>\n    </tr>\n    <tr>\n      <th>3</th>\n      <td>4</td>\n      <td>101</td>\n      <td>11</td>\n      <td>0</td>\n    </tr>\n    <tr>\n      <th>4</th>\n      <td>5</td>\n      <td>6792</td>\n      <td>1145</td>\n      <td>662</td>\n    </tr>\n  </tbody>\n</table>\n</div>",
      "text/plain": "   userId  Reputation  Views  UpVotes\n0      -1           1      0     5007\n1       2         101     25        3\n2       3         101     22       19\n3       4         101     11        0\n4       5        6792   1145      662"
     },
     "execution_count": 34,
     "metadata": {},
     "output_type": "execute_result"
    }
   ],
   "source": [
    "users_sliced_columns.head()"
   ]
  },
  {
   "cell_type": "code",
   "execution_count": 35,
   "metadata": {},
   "outputs": [
    {
     "data": {
      "text/html": "<div>\n<style scoped>\n    .dataframe tbody tr th:only-of-type {\n        vertical-align: middle;\n    }\n\n    .dataframe tbody tr th {\n        vertical-align: top;\n    }\n\n    .dataframe thead th {\n        text-align: right;\n    }\n</style>\n<table border=\"1\" class=\"dataframe\">\n  <thead>\n    <tr style=\"text-align: right;\">\n      <th></th>\n      <th>postId</th>\n      <th>Score</th>\n      <th>userId</th>\n      <th>ViewCount</th>\n    </tr>\n  </thead>\n  <tbody>\n    <tr>\n      <th>0</th>\n      <td>1</td>\n      <td>23</td>\n      <td>8.0</td>\n      <td>1278.0</td>\n    </tr>\n    <tr>\n      <th>1</th>\n      <td>2</td>\n      <td>22</td>\n      <td>24.0</td>\n      <td>8198.0</td>\n    </tr>\n    <tr>\n      <th>2</th>\n      <td>3</td>\n      <td>54</td>\n      <td>18.0</td>\n      <td>3613.0</td>\n    </tr>\n    <tr>\n      <th>3</th>\n      <td>4</td>\n      <td>13</td>\n      <td>23.0</td>\n      <td>5224.0</td>\n    </tr>\n    <tr>\n      <th>4</th>\n      <td>5</td>\n      <td>81</td>\n      <td>23.0</td>\n      <td>NaN</td>\n    </tr>\n  </tbody>\n</table>\n</div>",
      "text/plain": "   postId  Score  userId  ViewCount\n0       1     23     8.0     1278.0\n1       2     22    24.0     8198.0\n2       3     54    18.0     3613.0\n3       4     13    23.0     5224.0\n4       5     81    23.0        NaN"
     },
     "execution_count": 35,
     "metadata": {},
     "output_type": "execute_result"
    }
   ],
   "source": [
    "posts_sliced_columns.head()"
   ]
  },
  {
   "cell_type": "markdown",
   "metadata": {},
   "source": [
    "#### 7. Merge the two dataframes created in the step above (8), users_sliced and posts_sliced. \n",
    "You will need to make a [merge](https://pandas.pydata.org/pandas-docs/stable/generated/pandas.DataFrame.merge.html) of posts and users dataframes."
   ]
  },
  {
   "cell_type": "code",
   "execution_count": 36,
   "metadata": {},
   "outputs": [
    {
     "data": {
      "text/html": "<div>\n<style scoped>\n    .dataframe tbody tr th:only-of-type {\n        vertical-align: middle;\n    }\n\n    .dataframe tbody tr th {\n        vertical-align: top;\n    }\n\n    .dataframe thead th {\n        text-align: right;\n    }\n</style>\n<table border=\"1\" class=\"dataframe\">\n  <thead>\n    <tr style=\"text-align: right;\">\n      <th></th>\n      <th>postId</th>\n      <th>Score</th>\n      <th>userId</th>\n      <th>ViewCount</th>\n      <th>Reputation</th>\n      <th>Views</th>\n      <th>UpVotes</th>\n    </tr>\n  </thead>\n  <tbody>\n    <tr>\n      <th>0</th>\n      <td>1</td>\n      <td>23</td>\n      <td>8.0</td>\n      <td>1278.0</td>\n      <td>6764</td>\n      <td>1089</td>\n      <td>604</td>\n    </tr>\n    <tr>\n      <th>1</th>\n      <td>16</td>\n      <td>16</td>\n      <td>8.0</td>\n      <td>NaN</td>\n      <td>6764</td>\n      <td>1089</td>\n      <td>604</td>\n    </tr>\n    <tr>\n      <th>2</th>\n      <td>36</td>\n      <td>41</td>\n      <td>8.0</td>\n      <td>67396.0</td>\n      <td>6764</td>\n      <td>1089</td>\n      <td>604</td>\n    </tr>\n    <tr>\n      <th>3</th>\n      <td>65</td>\n      <td>14</td>\n      <td>8.0</td>\n      <td>NaN</td>\n      <td>6764</td>\n      <td>1089</td>\n      <td>604</td>\n    </tr>\n    <tr>\n      <th>4</th>\n      <td>78</td>\n      <td>33</td>\n      <td>8.0</td>\n      <td>NaN</td>\n      <td>6764</td>\n      <td>1089</td>\n      <td>604</td>\n    </tr>\n  </tbody>\n</table>\n</div>",
      "text/plain": "   postId  Score  userId  ViewCount  Reputation  Views  UpVotes\n0       1     23     8.0     1278.0        6764   1089      604\n1      16     16     8.0        NaN        6764   1089      604\n2      36     41     8.0    67396.0        6764   1089      604\n3      65     14     8.0        NaN        6764   1089      604\n4      78     33     8.0        NaN        6764   1089      604"
     },
     "execution_count": 36,
     "metadata": {},
     "output_type": "execute_result"
    }
   ],
   "source": [
    "new_df = pd.merge(posts_sliced_columns, users_sliced_columns)\n",
    "new_df.head()"
   ]
  },
  {
   "cell_type": "markdown",
   "metadata": {},
   "source": [
    "#### 8. How many missing values do you have in your merged dataframe? On which columns?"
   ]
  },
  {
   "cell_type": "code",
   "execution_count": 44,
   "metadata": {},
   "outputs": [
    {
     "data": {
      "text/plain": "postId            0\nScore             0\nuserId            0\nViewCount     48396\nReputation        0\nViews             0\nUpVotes           0\ndtype: int64"
     },
     "execution_count": 44,
     "metadata": {},
     "output_type": "execute_result"
    }
   ],
   "source": [
    "new_df.isnull().sum()\n",
    "\n",
    "print(\"Seems like all of them are in one Column\")"
   ]
  },
  {
   "cell_type": "markdown",
   "metadata": {},
   "source": [
    "#### 9. You will need to make something with missing values.  Will you clean or filling them? Explain. \n",
    "**Remember** to check the results of your code before going to the next step."
   ]
  },
  {
   "cell_type": "code",
   "execution_count": 47,
   "metadata": {},
   "outputs": [
    {
     "name": "stdout",
     "output_type": "stream",
     "text": [
      "We have over 90k rows in this, but viewercounts is over 50%  empty. I would just completly drop that column because just 'making up' that many values is not representative. Same as dropping all the rows, you loose to much data. \n"
     ]
    }
   ],
   "source": [
    "new_df = new_df.drop(\"ViewCount\", axis=1)\n",
    "new_df\n",
    "print(\"We have over 90k rows in this, but viewercounts is over 50%  empty. I would just completly drop that column because just 'making up' that many values is not representative. Same as dropping all the rows, you loose to much data. \")"
   ]
  },
  {
   "cell_type": "code",
   "execution_count": 48,
   "metadata": {},
   "outputs": [
    {
     "data": {
      "text/html": "<div>\n<style scoped>\n    .dataframe tbody tr th:only-of-type {\n        vertical-align: middle;\n    }\n\n    .dataframe tbody tr th {\n        vertical-align: top;\n    }\n\n    .dataframe thead th {\n        text-align: right;\n    }\n</style>\n<table border=\"1\" class=\"dataframe\">\n  <thead>\n    <tr style=\"text-align: right;\">\n      <th></th>\n      <th>postId</th>\n      <th>Score</th>\n      <th>userId</th>\n      <th>Reputation</th>\n      <th>Views</th>\n      <th>UpVotes</th>\n    </tr>\n  </thead>\n  <tbody>\n    <tr>\n      <th>0</th>\n      <td>1</td>\n      <td>23</td>\n      <td>8.0</td>\n      <td>6764</td>\n      <td>1089</td>\n      <td>604</td>\n    </tr>\n    <tr>\n      <th>1</th>\n      <td>16</td>\n      <td>16</td>\n      <td>8.0</td>\n      <td>6764</td>\n      <td>1089</td>\n      <td>604</td>\n    </tr>\n    <tr>\n      <th>2</th>\n      <td>36</td>\n      <td>41</td>\n      <td>8.0</td>\n      <td>6764</td>\n      <td>1089</td>\n      <td>604</td>\n    </tr>\n    <tr>\n      <th>3</th>\n      <td>65</td>\n      <td>14</td>\n      <td>8.0</td>\n      <td>6764</td>\n      <td>1089</td>\n      <td>604</td>\n    </tr>\n    <tr>\n      <th>4</th>\n      <td>78</td>\n      <td>33</td>\n      <td>8.0</td>\n      <td>6764</td>\n      <td>1089</td>\n      <td>604</td>\n    </tr>\n  </tbody>\n</table>\n</div>",
      "text/plain": "   postId  Score  userId  Reputation  Views  UpVotes\n0       1     23     8.0        6764   1089      604\n1      16     16     8.0        6764   1089      604\n2      36     41     8.0        6764   1089      604\n3      65     14     8.0        6764   1089      604\n4      78     33     8.0        6764   1089      604"
     },
     "execution_count": 48,
     "metadata": {},
     "output_type": "execute_result"
    }
   ],
   "source": [
    "new_df.head()"
   ]
  },
  {
   "cell_type": "code",
   "execution_count": 49,
   "metadata": {},
   "outputs": [
    {
     "data": {
      "text/plain": "postId        0\nScore         0\nuserId        0\nReputation    0\nViews         0\nUpVotes       0\ndtype: int64"
     },
     "execution_count": 49,
     "metadata": {},
     "output_type": "execute_result"
    }
   ],
   "source": [
    "new_df.isnull().sum()"
   ]
  },
  {
   "cell_type": "code",
   "execution_count": null,
   "metadata": {},
   "outputs": [],
   "source": []
  }
 ],
 "metadata": {
  "kernelspec": {
   "display_name": "Python 3.8.8  ('pwgen': venv)",
   "language": "python",
   "name": "python388jvsc74a57bd05e8f60df6e17e43425492b2794d120020511cdfbe8c89abc25a1d437fdaa78aa"
  },
  "language_info": {
   "codemirror_mode": {
    "name": "ipython",
    "version": 3
   },
   "file_extension": ".py",
   "mimetype": "text/x-python",
   "name": "python",
   "nbconvert_exporter": "python",
   "pygments_lexer": "ipython3",
   "version": "3.8.8"
  }
 },
 "nbformat": 4,
 "nbformat_minor": 2
}